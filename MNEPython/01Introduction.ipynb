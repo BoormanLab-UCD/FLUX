{
 "cells": [
  {
   "cell_type": "markdown",
   "metadata": {},
   "source": [
    "# Introduction\n",
    "\n",
    "### Why the FLUX pipeline?\n",
    "\n",
    "The aim of the FLUX pipeline is to provide an introduction for using some of the most common toolboxes to analyze a full MEG dataset. The pipeline will be used for education and as well as provide a common framework for MEG data analysis.\n",
    "\n",
    "This section is focused on [MNE-Python](https://mne.tools/stable/index.html). The core arguments for using MNE Python are\n",
    "\n",
    "- The toolbox is supported by an active and dynamic group of developers ensuring that the latest analysis tools of the field are available.\n",
    "- The code is Open Source and henceforth compatible with Open Science approaches\n",
    "- The toolbox is based on Python which is free and does not require any licence (as opposed to Matlab).\n",
    "- Python is becoming the preferred programming language for novel data analysis approached including machine learning tools. The Python modules are under constant development by a huge open sources community ensuring the availability of state-of-the-art data science tools\n",
    "\n",
    "### Target users\n",
    "\n",
    "The target users are researchers new to MNE-Python as well as more advanced users seeking to standardize their analyses. The FLUX pipeline is particular geared towards cognitive neuroscientist with an interest in task-based paradigms. The developers the pipeline are cognitve neuroscientists with a strong interest on brain oscillations and multivariate approaches.\n",
    "\n",
    "### Using the pipeline in self-studies and education\n",
    "\n",
    "The MNE Python toolbox has an excellent selection of [Tutorials](https://mne.tools/stable/auto_tutorials/index.html)\n",
    " and [Examples](https://mne.tools/dev/auto_examples/index.html). Nevertheless, the options are so many that the learning curve for new users is very steep. The FLUX pipeline provides a set of procedures for what we consider best practice at this moment in time. Consistent with an Open Science approach, the FLUX pipeline provides a validated and documented approach for MEG data analysis. Each analysis step comes with explanations and illustrations. Furthermore, the text is embedded with questions which will be useful for self-studies or they can be used in educational settings.\n",
    "\n",
    "In general, we will not link back to sections on the MNE-Python webpage as they will change over time; nevertheless, users are strongly encouraged to consult the MNE-Python website as they develop their skills and insight. \n",
    "\n",
    "### Installation\n",
    "\n",
    "To install MNE Python please follow the comprehensive [instructions](https://mne.tools/dev/install/index.html) on the website. If you are looking for an Integrated Development Environment (IDE), we have good experience using [Spyder](https://www.spyder-ide.org/) under the [Anaconda](https://www.anaconda.com/) framework."
   ]
  },
  {
   "cell_type": "code",
   "execution_count": null,
   "metadata": {},
   "outputs": [],
   "source": []
  },
  {
   "cell_type": "code",
   "execution_count": null,
   "metadata": {},
   "outputs": [],
   "source": []
  },
  {
   "cell_type": "code",
   "execution_count": null,
   "metadata": {},
   "outputs": [],
   "source": []
  }
 ],
 "metadata": {
  "kernelspec": {
   "display_name": "Python [conda env:mne]",
   "language": "python",
   "name": "conda-env-mne-py"
  },
  "language_info": {
   "codemirror_mode": {
    "name": "ipython",
    "version": 3
   },
   "file_extension": ".py",
   "mimetype": "text/x-python",
   "name": "python",
   "nbconvert_exporter": "python",
   "pygments_lexer": "ipython3",
   "version": "3.9.5"
  }
 },
 "nbformat": 4,
 "nbformat_minor": 4
}
